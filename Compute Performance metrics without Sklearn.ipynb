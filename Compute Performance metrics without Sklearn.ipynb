{
 "cells": [
  {
   "cell_type": "markdown",
   "metadata": {
    "id": "s0Ej_bXyQvnV"
   },
   "source": [
    "# Compute performance metrics for the given Y and Y_score without sklearn"
   ]
  },
  {
   "cell_type": "code",
   "execution_count": 1,
   "metadata": {
    "id": "4CHb6NE7Qvnc"
   },
   "outputs": [],
   "source": [
    "import numpy as np\n",
    "import pandas as pd"
   ]
  },
  {
   "cell_type": "markdown",
   "metadata": {},
   "source": [
    "# A. Compute performance metrics for the given data '5_b.csv'"
   ]
  },
  {
   "cell_type": "code",
   "execution_count": 2,
   "metadata": {
    "id": "WaFLW7oBQvnt"
   },
   "outputs": [
    {
     "data": {
      "text/html": [
       "<div>\n",
       "<style scoped>\n",
       "    .dataframe tbody tr th:only-of-type {\n",
       "        vertical-align: middle;\n",
       "    }\n",
       "\n",
       "    .dataframe tbody tr th {\n",
       "        vertical-align: top;\n",
       "    }\n",
       "\n",
       "    .dataframe thead th {\n",
       "        text-align: right;\n",
       "    }\n",
       "</style>\n",
       "<table border=\"1\" class=\"dataframe\">\n",
       "  <thead>\n",
       "    <tr style=\"text-align: right;\">\n",
       "      <th></th>\n",
       "      <th>y</th>\n",
       "      <th>proba</th>\n",
       "    </tr>\n",
       "  </thead>\n",
       "  <tbody>\n",
       "    <tr>\n",
       "      <th>0</th>\n",
       "      <td>1.0</td>\n",
       "      <td>0.637387</td>\n",
       "    </tr>\n",
       "    <tr>\n",
       "      <th>1</th>\n",
       "      <td>1.0</td>\n",
       "      <td>0.635165</td>\n",
       "    </tr>\n",
       "    <tr>\n",
       "      <th>2</th>\n",
       "      <td>1.0</td>\n",
       "      <td>0.766586</td>\n",
       "    </tr>\n",
       "    <tr>\n",
       "      <th>3</th>\n",
       "      <td>1.0</td>\n",
       "      <td>0.724564</td>\n",
       "    </tr>\n",
       "    <tr>\n",
       "      <th>4</th>\n",
       "      <td>1.0</td>\n",
       "      <td>0.889199</td>\n",
       "    </tr>\n",
       "  </tbody>\n",
       "</table>\n",
       "</div>"
      ],
      "text/plain": [
       "     y     proba\n",
       "0  1.0  0.637387\n",
       "1  1.0  0.635165\n",
       "2  1.0  0.766586\n",
       "3  1.0  0.724564\n",
       "4  1.0  0.889199"
      ]
     },
     "execution_count": 2,
     "metadata": {},
     "output_type": "execute_result"
    }
   ],
   "source": [
    "dataset_a=pd.read_csv('5_a.csv')\n",
    "dataset_a.head()"
   ]
  },
  {
   "cell_type": "code",
   "execution_count": 3,
   "metadata": {
    "id": "yg8uUJvGAfCM"
   },
   "outputs": [
    {
     "data": {
      "text/plain": [
       "1.0    10000\n",
       "0.0      100\n",
       "Name: y, dtype: int64"
      ]
     },
     "execution_count": 3,
     "metadata": {},
     "output_type": "execute_result"
    }
   ],
   "source": [
    "k = dataset_a['y'].value_counts()\n",
    "k"
   ]
  },
  {
   "cell_type": "markdown",
   "metadata": {},
   "source": [
    "## Compute confusion metrics & F1 score"
   ]
  },
  {
   "cell_type": "code",
   "execution_count": 4,
   "metadata": {},
   "outputs": [],
   "source": [
    "#reference :\n",
    "#https://www.kaggle.com/code/paulrohan2020/performance-metrics-without-sklearn\n",
    "#https://datascience.stackexchange.com/questions/28493/confusion-matrix-get-items-fp-fn-tp-tn-python\n",
    "#https://stackoverflow.com/questions/67409178/calculating-tp-fp-tn-fn-values\n",
    "def calculate_tp_fp_tn_fn(dataset):\n",
    "    TP , TN, FP, FN = 0 , 0 , 0 ,0\n",
    "    y_predict_new = []\n",
    "    for i in dataset['proba']:\n",
    "        if (i < 0.5):\n",
    "            y_predict_new.append(0.0)\n",
    "        else :\n",
    "            y_predict_new.append(1.0)\n",
    "            \n",
    "    dataset['y_predict']=y_predict_new\n",
    "    \n",
    "    TN = ((dataset['y']==0.0) & (dataset['y_predict']==0.0)).sum()\n",
    "    TP = ((dataset['y']==1.0) & (dataset['y_predict']==1.0)).sum()\n",
    "    FP = ((dataset['y']==0.0) & (dataset['y_predict']==1.0)).sum()\n",
    "    FN = ((dataset['y']==1.0) & (dataset['y_predict']==0.0)).sum()\n",
    "    \n",
    "    return (TP,TN,FN,FP)"
   ]
  },
  {
   "cell_type": "code",
   "execution_count": 5,
   "metadata": {},
   "outputs": [],
   "source": [
    "def compute_f1_score(TP,TN,FN,FP):\n",
    "    \n",
    "    precision = TP/(FP+TP)\n",
    "    Recall = TP/(TP+FN)\n",
    "    F1_Score = (2* (precision*Recall)/(precision+Recall))\n",
    "    \n",
    "    return (precision,Recall,F1_Score)\n",
    "\n",
    "def confusion_matrix(TP,TN,FP,FN):\n",
    "    return (np.array([[TN , FP],[FN,TP]]))"
   ]
  },
  {
   "cell_type": "code",
   "execution_count": 6,
   "metadata": {},
   "outputs": [
    {
     "name": "stdout",
     "output_type": "stream",
     "text": [
      "Confusion_Matrix: [  0 100] \n",
      " \t\t [    0 10000]\n",
      "F1_Score: 0.9950248756218906\n"
     ]
    }
   ],
   "source": [
    "TP,TN,FN,FP = calculate_tp_fp_tn_fn(dataset_a)\n",
    "precision,Recall,F1_Score = compute_f1_score(TP,TN,FN,FP)\n",
    "a =confusion_matrix(TP,TN,FP,FN)\n",
    "\n",
    "print('Confusion_Matrix:',a[0],'\\n','\\t'*2,a[1])\n",
    "print('F1_Score:', F1_Score)"
   ]
  },
  {
   "cell_type": "markdown",
   "metadata": {},
   "source": [
    "## Compute AUC score"
   ]
  },
  {
   "cell_type": "code",
   "execution_count": 7,
   "metadata": {},
   "outputs": [
    {
     "name": "stderr",
     "output_type": "stream",
     "text": [
      "100%|████████████████████████████████████████████████████████████████████████████| 10100/10100 [03:35<00:00, 46.76it/s]\n"
     ]
    }
   ],
   "source": [
    "#reference : \n",
    "# https://stackoverflow.com/questions/65748968/how-to-compute-auc-score-manually-without-using-sklearn   \n",
    "from tqdm import tqdm\n",
    "\n",
    "tpr=[]\n",
    "fpr=[]\n",
    "dataset = pd.read_csv('5_a.csv')\n",
    "uniq_data = list(dataset.proba.unique())\n",
    "uniq_data.sort(reverse = True)\n",
    "\n",
    "\n",
    "for tow in tqdm(uniq_data):\n",
    "    y_predict_new = []\n",
    "    for i in dataset['proba']:\n",
    "        if (i <  tow):\n",
    "            y_predict_new.append(0)\n",
    "        else :\n",
    "            y_predict_new.append(1)\n",
    "           \n",
    "    dataset['y_predict']=y_predict_new\n",
    "   \n",
    "    TN = (((dataset['y'])==0)& ((dataset['y_predict'])==0)).sum()\n",
    "    TP = (((dataset['y'])==1) & ((dataset['y_predict'])==1)).sum()\n",
    "    FP = (((dataset['y'])==0) & ((dataset['y_predict'])==1)).sum()\n",
    "    FN = (((dataset['y'])==1) & ((dataset['y_predict'])==0)).sum()\n",
    "       \n",
    "    tpr.append(TP/(TP+FN))\n",
    "    fpr.append(FP/(FP+TN))\n",
    "x = sorted(tpr)\n",
    "y = sorted(fpr)\n",
    "auc = np.trapz(x,y)"
   ]
  },
  {
   "cell_type": "code",
   "execution_count": 8,
   "metadata": {},
   "outputs": [
    {
     "name": "stdout",
     "output_type": "stream",
     "text": [
      "AUC Score : 0.48829900000000004\n",
      "TP : 10000\n",
      "TN : 0\n",
      "FP : 100\n",
      "FN : 0\n"
     ]
    }
   ],
   "source": [
    "print('AUC Score :',auc)\n",
    "print('TP :', TP)\n",
    "print('TN :', TN)\n",
    "print('FP :', FP)\n",
    "print('FN :', FN)"
   ]
  },
  {
   "cell_type": "markdown",
   "metadata": {},
   "source": [
    "## Compute accuracy score"
   ]
  },
  {
   "cell_type": "code",
   "execution_count": 9,
   "metadata": {},
   "outputs": [
    {
     "name": "stdout",
     "output_type": "stream",
     "text": [
      "Accuracy Score: 0.9900990099009901\n"
     ]
    }
   ],
   "source": [
    "def check_equality(dataset_a):\n",
    "    p=0\n",
    "    for i in range(len(dataset_a)):\n",
    "        \n",
    "        if dataset_a['y'][i]==dataset_a['y_predict'][i]:\n",
    "            p+=1\n",
    "    return p\n",
    "total_Positive = check_equality(dataset_a)\n",
    "q = len((dataset_a))\n",
    "auc_score = total_Positive/q\n",
    "print('Accuracy Score:', auc_score)"
   ]
  },
  {
   "cell_type": "markdown",
   "metadata": {
    "id": "V5KZem1BQvn2"
   },
   "source": [
    "# B. Compute performance metrics for the given data '5_b.csv'"
   ]
  },
  {
   "cell_type": "code",
   "execution_count": 10,
   "metadata": {
    "id": "U2sKlq0YQvn5"
   },
   "outputs": [
    {
     "data": {
      "text/html": [
       "<div>\n",
       "<style scoped>\n",
       "    .dataframe tbody tr th:only-of-type {\n",
       "        vertical-align: middle;\n",
       "    }\n",
       "\n",
       "    .dataframe tbody tr th {\n",
       "        vertical-align: top;\n",
       "    }\n",
       "\n",
       "    .dataframe thead th {\n",
       "        text-align: right;\n",
       "    }\n",
       "</style>\n",
       "<table border=\"1\" class=\"dataframe\">\n",
       "  <thead>\n",
       "    <tr style=\"text-align: right;\">\n",
       "      <th></th>\n",
       "      <th>y</th>\n",
       "      <th>proba</th>\n",
       "    </tr>\n",
       "  </thead>\n",
       "  <tbody>\n",
       "    <tr>\n",
       "      <th>0</th>\n",
       "      <td>0.0</td>\n",
       "      <td>0.281035</td>\n",
       "    </tr>\n",
       "    <tr>\n",
       "      <th>1</th>\n",
       "      <td>0.0</td>\n",
       "      <td>0.465152</td>\n",
       "    </tr>\n",
       "    <tr>\n",
       "      <th>2</th>\n",
       "      <td>0.0</td>\n",
       "      <td>0.352793</td>\n",
       "    </tr>\n",
       "    <tr>\n",
       "      <th>3</th>\n",
       "      <td>0.0</td>\n",
       "      <td>0.157818</td>\n",
       "    </tr>\n",
       "    <tr>\n",
       "      <th>4</th>\n",
       "      <td>0.0</td>\n",
       "      <td>0.276648</td>\n",
       "    </tr>\n",
       "  </tbody>\n",
       "</table>\n",
       "</div>"
      ],
      "text/plain": [
       "     y     proba\n",
       "0  0.0  0.281035\n",
       "1  0.0  0.465152\n",
       "2  0.0  0.352793\n",
       "3  0.0  0.157818\n",
       "4  0.0  0.276648"
      ]
     },
     "execution_count": 10,
     "metadata": {},
     "output_type": "execute_result"
    }
   ],
   "source": [
    "dataset_b=pd.read_csv('5_b.csv')\n",
    "dataset_b.head()"
   ]
  },
  {
   "cell_type": "code",
   "execution_count": 11,
   "metadata": {
    "id": "xlLVa-cVAfCS"
   },
   "outputs": [
    {
     "data": {
      "text/plain": [
       "0.0    10000\n",
       "1.0      100\n",
       "Name: y, dtype: int64"
      ]
     },
     "execution_count": 11,
     "metadata": {},
     "output_type": "execute_result"
    }
   ],
   "source": [
    "k = dataset_b['y'].value_counts()\n",
    "k"
   ]
  },
  {
   "cell_type": "markdown",
   "metadata": {},
   "source": [
    "## compute confusion metrics & F1 score"
   ]
  },
  {
   "cell_type": "code",
   "execution_count": 12,
   "metadata": {},
   "outputs": [],
   "source": [
    "def calculate_tp_fp_tn_fn(dataset2):\n",
    "    TP , TN, FP, FN = 0 , 0 , 0 ,0\n",
    "    y_predict_new = []\n",
    "    for i in dataset2['proba']:\n",
    "        if (i < 0.5):\n",
    "            y_predict_new.append(0.0)\n",
    "        else :\n",
    "            y_predict_new.append(1.0)\n",
    "            \n",
    "    dataset2['y_predict']=y_predict_new\n",
    "    \n",
    "    TN = ((dataset2['y']==0.0) & (dataset2['y_predict']==0.0)).sum()\n",
    "    TP = ((dataset2['y']==1.0) & (dataset2['y_predict']==1.0)).sum()\n",
    "    FP = ((dataset2['y']==0.0) & (dataset2['y_predict']==1.0)).sum()\n",
    "    FN = ((dataset2['y']==1.0) & (dataset2['y_predict']==0.0)).sum()\n",
    "    \n",
    "    return (TP,TN,FN,FP)"
   ]
  },
  {
   "cell_type": "code",
   "execution_count": 13,
   "metadata": {},
   "outputs": [],
   "source": [
    "def compute_f1_score(TP,TN,FN,FP):\n",
    "    \n",
    "    precision = TP/(FP+TP)\n",
    "    Recall = TP/(TP+FN)\n",
    "    F1_Score = (2* (precision*Recall)/(precision+Recall))\n",
    "    \n",
    "    return (precision,Recall,F1_Score)\n",
    "\n",
    "def confusion_matrix(TP,TN,FP,FN):\n",
    "    return (np.array([[TN , FP],[FN,TP]]))"
   ]
  },
  {
   "cell_type": "code",
   "execution_count": 14,
   "metadata": {},
   "outputs": [
    {
     "name": "stdout",
     "output_type": "stream",
     "text": [
      "Confusion_Matrix: [9761  239] \n",
      " \t\t [45 55]\n",
      "F1_Score: 0.2791878172588833\n"
     ]
    }
   ],
   "source": [
    "TP,TN,FN,FP = calculate_tp_fp_tn_fn(dataset_b)\n",
    "precision,Recall,F1_Score = compute_f1_score(TP,TN,FN,FP)\n",
    "a =confusion_matrix(TP,TN,FP,FN)\n",
    "\n",
    "print('Confusion_Matrix:',a[0],'\\n','\\t'*2,a[1])\n",
    "print('F1_Score:', F1_Score)"
   ]
  },
  {
   "cell_type": "markdown",
   "metadata": {},
   "source": [
    "## compute AUC score"
   ]
  },
  {
   "cell_type": "code",
   "execution_count": 15,
   "metadata": {},
   "outputs": [
    {
     "name": "stderr",
     "output_type": "stream",
     "text": [
      "100%|████████████████████████████████████████████████████████████████████████████| 10100/10100 [03:32<00:00, 47.44it/s]\n"
     ]
    }
   ],
   "source": [
    "from tqdm import tqdm\n",
    "\n",
    "tpr=[]\n",
    "fpr=[]\n",
    "dataset2 = pd.read_csv('5_b.csv')\n",
    "uniq_data = list(dataset2.proba.unique())\n",
    "uniq_data.sort(reverse = True)\n",
    "\n",
    "\n",
    "for tow in tqdm(uniq_data):\n",
    "    y_predict_new = []\n",
    "    for i in dataset2['proba']:\n",
    "        if (i <  tow):\n",
    "            y_predict_new.append(0)\n",
    "        else :\n",
    "            y_predict_new.append(1)\n",
    "           \n",
    "    dataset2['y_predict']=y_predict_new\n",
    "   \n",
    "    TN = (((dataset2['y'])==0) & ((dataset2['y_predict'])==0)).sum()\n",
    "    TP = (((dataset2['y'])==1) & ((dataset2['y_predict'])==1)).sum()\n",
    "    FP = (((dataset2['y'])==0) & ((dataset2['y_predict'])==1)).sum()\n",
    "    FN = (((dataset2['y'])==1) & ((dataset2['y_predict'])==0)).sum()\n",
    "       \n",
    "    tpr.append(TP/(TP+FN))\n",
    "    fpr.append(FP/(FP+TN))\n",
    "\n",
    "x = sorted(tpr)\n",
    "y = sorted(fpr)\n",
    "auc = np.trapz(x,y)"
   ]
  },
  {
   "cell_type": "code",
   "execution_count": 16,
   "metadata": {},
   "outputs": [
    {
     "name": "stdout",
     "output_type": "stream",
     "text": [
      "AUC Score : 0.9377570000000001\n",
      "TP : 100\n",
      "TN : 0\n",
      "FP : 10000\n",
      "FN : 0\n"
     ]
    }
   ],
   "source": [
    "print('AUC Score :',auc)\n",
    "print('TP :', TP)\n",
    "print('TN :', TN)\n",
    "print('FP :', FP)\n",
    "print('FN :', FN)"
   ]
  },
  {
   "cell_type": "markdown",
   "metadata": {},
   "source": [
    "## compute accuracy score"
   ]
  },
  {
   "cell_type": "code",
   "execution_count": 17,
   "metadata": {},
   "outputs": [
    {
     "name": "stdout",
     "output_type": "stream",
     "text": [
      "Accuracy Score: 0.9718811881188119\n"
     ]
    }
   ],
   "source": [
    "def check_equality(dataset_a):\n",
    "    p=0\n",
    "    for i in range(len(dataset_a)):\n",
    "        \n",
    "        if dataset_b['y'][i]==dataset_b['y_predict'][i]:\n",
    "            p+=1\n",
    "    return p\n",
    "total_Positive = check_equality(dataset_b)\n",
    "q = len((dataset_b))\n",
    "auc_score = total_Positive/q\n",
    "print('Accuracy Score:', auc_score)"
   ]
  },
  {
   "cell_type": "markdown",
   "metadata": {
    "id": "GiPGonTzQvoB"
   },
   "source": [
    "# C. Compute the best threshold (similarly to ROC curve computation) of probability which gives lowest values of metric <b>A</b> for the given data "
   ]
  },
  {
   "cell_type": "code",
   "execution_count": 18,
   "metadata": {
    "id": "x5HIJzq1QvoE"
   },
   "outputs": [
    {
     "data": {
      "text/html": [
       "<div>\n",
       "<style scoped>\n",
       "    .dataframe tbody tr th:only-of-type {\n",
       "        vertical-align: middle;\n",
       "    }\n",
       "\n",
       "    .dataframe tbody tr th {\n",
       "        vertical-align: top;\n",
       "    }\n",
       "\n",
       "    .dataframe thead th {\n",
       "        text-align: right;\n",
       "    }\n",
       "</style>\n",
       "<table border=\"1\" class=\"dataframe\">\n",
       "  <thead>\n",
       "    <tr style=\"text-align: right;\">\n",
       "      <th></th>\n",
       "      <th>y</th>\n",
       "      <th>prob</th>\n",
       "    </tr>\n",
       "  </thead>\n",
       "  <tbody>\n",
       "    <tr>\n",
       "      <th>0</th>\n",
       "      <td>0</td>\n",
       "      <td>0.458521</td>\n",
       "    </tr>\n",
       "    <tr>\n",
       "      <th>1</th>\n",
       "      <td>0</td>\n",
       "      <td>0.505037</td>\n",
       "    </tr>\n",
       "    <tr>\n",
       "      <th>2</th>\n",
       "      <td>0</td>\n",
       "      <td>0.418652</td>\n",
       "    </tr>\n",
       "    <tr>\n",
       "      <th>3</th>\n",
       "      <td>0</td>\n",
       "      <td>0.412057</td>\n",
       "    </tr>\n",
       "    <tr>\n",
       "      <th>4</th>\n",
       "      <td>0</td>\n",
       "      <td>0.375579</td>\n",
       "    </tr>\n",
       "  </tbody>\n",
       "</table>\n",
       "</div>"
      ],
      "text/plain": [
       "   y      prob\n",
       "0  0  0.458521\n",
       "1  0  0.505037\n",
       "2  0  0.418652\n",
       "3  0  0.412057\n",
       "4  0  0.375579"
      ]
     },
     "execution_count": 18,
     "metadata": {},
     "output_type": "execute_result"
    }
   ],
   "source": [
    "dataset_c=pd.read_csv('5_c.csv')\n",
    "dataset_c.head()"
   ]
  },
  {
   "cell_type": "code",
   "execution_count": 19,
   "metadata": {
    "id": "eAPjewjzAfCa"
   },
   "outputs": [
    {
     "name": "stderr",
     "output_type": "stream",
     "text": [
      "100%|█████████████████████████████████████████████████████████████████████████████| 2852/2852 [00:13<00:00, 216.76it/s]"
     ]
    },
    {
     "name": "stdout",
     "output_type": "stream",
     "text": [
      "Threshold Value:  0.2298716443615991\n",
      "Minimum value of A: 141000\n"
     ]
    },
    {
     "name": "stderr",
     "output_type": "stream",
     "text": [
      "\n"
     ]
    }
   ],
   "source": [
    "#reference :\n",
    "#https://albertuskelvin.github.io/posts/2019/12/best-threshold-maximize-accuracy-from-roc-pr-curve/\n",
    "dict = {}\n",
    "sorted_data = dataset_c.sort_values(by='prob', ascending = True)\n",
    "uniq_prob = list(dataset_c.prob.unique())\n",
    "uniq_prob.sort(reverse = True)\n",
    "A = []\n",
    "for threshold in tqdm(dataset_c['prob']):\n",
    "   \n",
    "    y_predict=[]\n",
    "    for value in dataset_c['prob']:\n",
    "        if (value <= threshold):\n",
    "            y_predict.append(0)\n",
    "            \n",
    "        else:\n",
    "            y_predict.append(1)\n",
    "    dataset_c['y_predict1'] = y_predict\n",
    "    \n",
    "\n",
    "    FP = ((dataset_c['y']==0) & (dataset_c['y_predict1']==1)).sum()\n",
    "    FN = ((dataset_c['y']==1) & (dataset_c['y_predict1']==0)).sum()\n",
    "    A.append((500 * FN) + (100 * FP))\n",
    "    \n",
    "b = pd.Series(A)\n",
    "min_index = min(b)\n",
    "threshold_index = A.index(min_index)\n",
    "print('Threshold Value: ',sorted_data['prob'][threshold_index])\n",
    "print('Minimum value of A:', min_index)"
   ]
  },
  {
   "cell_type": "markdown",
   "metadata": {
    "id": "sD4CcgjXQvoL"
   },
   "source": [
    "# D.</b></font> Compute performance metrics(for regression) for the given data 5_d.csv"
   ]
  },
  {
   "cell_type": "code",
   "execution_count": 20,
   "metadata": {
    "id": "sVOj-bF9AfCd"
   },
   "outputs": [
    {
     "data": {
      "text/html": [
       "<div>\n",
       "<style scoped>\n",
       "    .dataframe tbody tr th:only-of-type {\n",
       "        vertical-align: middle;\n",
       "    }\n",
       "\n",
       "    .dataframe tbody tr th {\n",
       "        vertical-align: top;\n",
       "    }\n",
       "\n",
       "    .dataframe thead th {\n",
       "        text-align: right;\n",
       "    }\n",
       "</style>\n",
       "<table border=\"1\" class=\"dataframe\">\n",
       "  <thead>\n",
       "    <tr style=\"text-align: right;\">\n",
       "      <th></th>\n",
       "      <th>y</th>\n",
       "      <th>pred</th>\n",
       "    </tr>\n",
       "  </thead>\n",
       "  <tbody>\n",
       "    <tr>\n",
       "      <th>0</th>\n",
       "      <td>101.0</td>\n",
       "      <td>100.0</td>\n",
       "    </tr>\n",
       "    <tr>\n",
       "      <th>1</th>\n",
       "      <td>120.0</td>\n",
       "      <td>100.0</td>\n",
       "    </tr>\n",
       "    <tr>\n",
       "      <th>2</th>\n",
       "      <td>131.0</td>\n",
       "      <td>113.0</td>\n",
       "    </tr>\n",
       "    <tr>\n",
       "      <th>3</th>\n",
       "      <td>164.0</td>\n",
       "      <td>125.0</td>\n",
       "    </tr>\n",
       "    <tr>\n",
       "      <th>4</th>\n",
       "      <td>154.0</td>\n",
       "      <td>152.0</td>\n",
       "    </tr>\n",
       "  </tbody>\n",
       "</table>\n",
       "</div>"
      ],
      "text/plain": [
       "       y   pred\n",
       "0  101.0  100.0\n",
       "1  120.0  100.0\n",
       "2  131.0  113.0\n",
       "3  164.0  125.0\n",
       "4  154.0  152.0"
      ]
     },
     "execution_count": 20,
     "metadata": {},
     "output_type": "execute_result"
    }
   ],
   "source": [
    "dataset_d=pd.read_csv('5_d.csv')\n",
    "dataset_d.head()"
   ]
  },
  {
   "cell_type": "code",
   "execution_count": 21,
   "metadata": {
    "id": "uRhL1pheAfCe"
   },
   "outputs": [],
   "source": [
    "#reference :\n",
    "#https://www.kaggle.com/code/paulrohan2020/performance-metrics-without-sklear\n",
    "def regression_metrics(dataset4):\n",
    "    n=len(dataset4)\n",
    "    dataset4['ei']= dataset4.apply(lambda x: abs(x['y'] - x['pred']), axis=1) \n",
    "    dataset4['mse']= dataset4['ei'].apply(lambda x: x*x) \n",
    "    total=dataset4['mse'].sum()\n",
    "    mse=total/n\n",
    "    mape=(dataset4['ei'].sum())/(dataset4['y'].sum())\n",
    "    mean=(dataset4['y'].sum())/n\n",
    "    ssres=dataset4['mse'].sum()\n",
    "    dataset4['sstotal']= dataset4.apply(lambda x: (x['y'] - mean), axis=1)\n",
    "    dataset4['sstotal']= dataset4['sstotal'].apply(lambda x: x*x)\n",
    "    sstotal=dataset4['sstotal'].sum()\n",
    "    rsquared=1-(ssres/sstotal)\n",
    "    return mse,mape,rsquared"
   ]
  },
  {
   "cell_type": "code",
   "execution_count": 22,
   "metadata": {},
   "outputs": [
    {
     "name": "stdout",
     "output_type": "stream",
     "text": [
      "MEAN SQUARED ERROR : 177.16569974554707\n",
      "MEAN ABSOLUTE PERCENTAGE ERROR : 12.91202994009687\n",
      "R SQUARED : 0.9563582786990937\n"
     ]
    }
   ],
   "source": [
    "mse,mape,rsquared=regression_metrics(dataset_d)\n",
    "print('MEAN SQUARED ERROR :',mse)\n",
    "print('MEAN ABSOLUTE PERCENTAGE ERROR :',mape*100)\n",
    "print('R SQUARED :',rsquared)"
   ]
  }
 ],
 "metadata": {
  "colab": {
   "collapsed_sections": [],
   "provenance": []
  },
  "kernelspec": {
   "display_name": "Python 3",
   "language": "python",
   "name": "python3"
  },
  "language_info": {
   "codemirror_mode": {
    "name": "ipython",
    "version": 3
   },
   "file_extension": ".py",
   "mimetype": "text/x-python",
   "name": "python",
   "nbconvert_exporter": "python",
   "pygments_lexer": "ipython3",
   "version": "3.8.8"
  }
 },
 "nbformat": 4,
 "nbformat_minor": 1
}
